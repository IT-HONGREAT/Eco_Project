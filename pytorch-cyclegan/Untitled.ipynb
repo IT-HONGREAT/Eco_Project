{
 "cells": [
  {
   "cell_type": "code",
   "execution_count": 15,
   "id": "d981768a",
   "metadata": {},
   "outputs": [
    {
     "name": "stdout",
     "output_type": "stream",
     "text": [
      "Collecting torchvision\n",
      "  Downloading torchvision-0.10.1-cp39-cp39-win_amd64.whl (936 kB)\n",
      "Requirement already satisfied: numpy in c:\\users\\hongr\\anaconda3\\envs\\test\\lib\\site-packages (from torchvision) (1.19.5)\n",
      "Collecting torch==1.9.1\n",
      "  Downloading torch-1.9.1-cp39-cp39-win_amd64.whl (222.0 MB)\n",
      "Requirement already satisfied: pillow>=5.3.0 in c:\\users\\hongr\\anaconda3\\envs\\test\\lib\\site-packages (from torchvision) (8.3.1)\n",
      "Requirement already satisfied: typing-extensions in c:\\users\\hongr\\anaconda3\\envs\\test\\lib\\site-packages (from torch==1.9.1->torchvision) (3.10.0.2)\n",
      "Installing collected packages: torch, torchvision\n",
      "Successfully installed torch-1.9.1 torchvision-0.10.1\n"
     ]
    }
   ],
   "source": [
    "!pip install torchvision"
   ]
  },
  {
   "cell_type": "code",
   "execution_count": 16,
   "id": "fe297866",
   "metadata": {},
   "outputs": [
    {
     "data": {
      "text/plain": [
       "False"
      ]
     },
     "execution_count": 16,
     "metadata": {},
     "output_type": "execute_result"
    }
   ],
   "source": [
    "import torch\n",
    "\n",
    "torch.cuda.is_available()"
   ]
  },
  {
   "cell_type": "code",
   "execution_count": 17,
   "id": "6ca37693",
   "metadata": {},
   "outputs": [
    {
     "name": "stdout",
     "output_type": "stream",
     "text": [
      "Using cpu device\n"
     ]
    }
   ],
   "source": [
    "device = \"cuda\" if torch.cuda.is_available() else \"cpu\"\n",
    "print(\"Using {} device\".format(device))"
   ]
  },
  {
   "cell_type": "code",
   "execution_count": 19,
   "id": "d9467760",
   "metadata": {},
   "outputs": [
    {
     "name": "stdout",
     "output_type": "stream",
     "text": [
      "Collecting scikit-image\n",
      "  Downloading scikit_image-0.18.3-cp39-cp39-win_amd64.whl (12.2 MB)\n",
      "Collecting tifffile>=2019.7.26\n",
      "  Downloading tifffile-2021.10.10-py3-none-any.whl (174 kB)\n",
      "Requirement already satisfied: pillow!=7.1.0,!=7.1.1,>=4.3.0 in c:\\users\\hongr\\anaconda3\\envs\\test\\lib\\site-packages (from scikit-image) (8.3.1)\n",
      "Requirement already satisfied: networkx>=2.0 in c:\\users\\hongr\\anaconda3\\envs\\test\\lib\\site-packages (from scikit-image) (2.6.3)\n",
      "Requirement already satisfied: scipy>=1.0.1 in c:\\users\\hongr\\anaconda3\\envs\\test\\lib\\site-packages (from scikit-image) (1.7.1)\n",
      "Requirement already satisfied: matplotlib!=3.0.0,>=2.0.0 in c:\\users\\hongr\\anaconda3\\envs\\test\\lib\\site-packages (from scikit-image) (3.4.3)\n",
      "Requirement already satisfied: numpy>=1.16.5 in c:\\users\\hongr\\anaconda3\\envs\\test\\lib\\site-packages (from scikit-image) (1.19.5)\n",
      "Collecting imageio>=2.3.0\n",
      "  Downloading imageio-2.9.0-py3-none-any.whl (3.3 MB)\n",
      "Collecting PyWavelets>=1.1.1\n",
      "  Downloading PyWavelets-1.1.1-cp39-cp39-win_amd64.whl (4.2 MB)\n",
      "Requirement already satisfied: python-dateutil>=2.7 in c:\\users\\hongr\\anaconda3\\envs\\test\\lib\\site-packages (from matplotlib!=3.0.0,>=2.0.0->scikit-image) (2.8.2)\n",
      "Requirement already satisfied: pyparsing>=2.2.1 in c:\\users\\hongr\\anaconda3\\envs\\test\\lib\\site-packages (from matplotlib!=3.0.0,>=2.0.0->scikit-image) (2.4.7)\n",
      "Requirement already satisfied: cycler>=0.10 in c:\\users\\hongr\\anaconda3\\envs\\test\\lib\\site-packages (from matplotlib!=3.0.0,>=2.0.0->scikit-image) (0.10.0)\n",
      "Requirement already satisfied: kiwisolver>=1.0.1 in c:\\users\\hongr\\anaconda3\\envs\\test\\lib\\site-packages (from matplotlib!=3.0.0,>=2.0.0->scikit-image) (1.3.2)\n",
      "Requirement already satisfied: six in c:\\users\\hongr\\anaconda3\\envs\\test\\lib\\site-packages (from cycler>=0.10->matplotlib!=3.0.0,>=2.0.0->scikit-image) (1.15.0)\n",
      "Installing collected packages: tifffile, PyWavelets, imageio, scikit-image\n",
      "Successfully installed PyWavelets-1.1.1 imageio-2.9.0 scikit-image-0.18.3 tifffile-2021.10.10\n",
      "Note: you may need to restart the kernel to use updated packages.\n"
     ]
    }
   ],
   "source": [
    "pip install scikit-image"
   ]
  },
  {
   "cell_type": "code",
   "execution_count": 50,
   "id": "b6921f28",
   "metadata": {},
   "outputs": [
    {
     "name": "stdout",
     "output_type": "stream",
     "text": [
      "mode: train\n",
      "norm: inorm\n",
      "learning rate: 2.0000e-04\n",
      "batch size: 4\n",
      "number of epoch: 100\n",
      "task: cyclegan\n",
      "opts: ['direction', array([0.])]\n",
      "network: CycleGAN\n",
      "learning type: plain\n",
      "data dir: C:\\\\Users\\\\hongr\\\\Eco_Project\\\\pytorch-cyclegan\\dataset\n",
      "ckpt dir: C:\\\\Users\\\\hongr\\\\Eco_Project\\\\pytorch-cyclegan\\checkpoint\n",
      "log dir: C:\\\\Users\\\\hongr\\\\Eco_Project\\\\pytorch-cyclegan\\log\n",
      "result dir: C:\\\\Users\\\\hongr\\\\Eco_Project\\\\pytorch-cyclegan\\result\n",
      "device: cpu\n",
      "initialize network with normal\n",
      "initialize network with normal\n",
      "initialize network with normal\n",
      "initialize network with normal\n"
     ]
    },
    {
     "name": "stderr",
     "output_type": "stream",
     "text": [
      "2021-10-13 01:38:49.823370: I tensorflow/stream_executor/platform/default/dso_loader.cc:53] Successfully opened dynamic library cudart64_110.dll\n",
      "Traceback (most recent call last):\n",
      "  File \"C:\\Users\\hongr\\anaconda3\\envs\\test\\lib\\site-packages\\tensorboard\\compat\\__init__.py\", line 42, in tf\n",
      "    from tensorboard.compat import notf  # noqa: F401\n",
      "ImportError: cannot import name 'notf' from 'tensorboard.compat' (C:\\Users\\hongr\\anaconda3\\envs\\test\\lib\\site-packages\\tensorboard\\compat\\__init__.py)\n",
      "\n",
      "During handling of the above exception, another exception occurred:\n",
      "\n",
      "RuntimeError: module compiled against API version 0xe but this version of numpy is 0xd\n",
      "Traceback (most recent call last):\n",
      "  File \"C:\\Users\\hongr\\anaconda3\\envs\\test\\lib\\site-packages\\tensorboard\\compat\\__init__.py\", line 42, in tf\n",
      "    from tensorboard.compat import notf  # noqa: F401\n",
      "ImportError: cannot import name 'notf' from 'tensorboard.compat' (C:\\Users\\hongr\\anaconda3\\envs\\test\\lib\\site-packages\\tensorboard\\compat\\__init__.py)\n",
      "\n",
      "During handling of the above exception, another exception occurred:\n",
      "\n",
      "RuntimeError: module compiled against API version 0xe but this version of numpy is 0xd\n",
      "Traceback (most recent call last):\n",
      "  File \"C:\\Users\\hongr\\anaconda3\\envs\\test\\lib\\site-packages\\tensorboard\\compat\\__init__.py\", line 42, in tf\n",
      "    from tensorboard.compat import notf  # noqa: F401\n",
      "ImportError: cannot import name 'notf' from 'tensorboard.compat' (C:\\Users\\hongr\\anaconda3\\envs\\test\\lib\\site-packages\\tensorboard\\compat\\__init__.py)\n",
      "\n",
      "During handling of the above exception, another exception occurred:\n",
      "\n",
      "ImportError: numpy.core._multiarray_umath failed to import\n",
      "Traceback (most recent call last):\n",
      "  File \"C:\\Users\\hongr\\anaconda3\\envs\\test\\lib\\site-packages\\tensorboard\\compat\\__init__.py\", line 42, in tf\n",
      "    from tensorboard.compat import notf  # noqa: F401\n",
      "ImportError: cannot import name 'notf' from 'tensorboard.compat' (C:\\Users\\hongr\\anaconda3\\envs\\test\\lib\\site-packages\\tensorboard\\compat\\__init__.py)\n",
      "\n",
      "During handling of the above exception, another exception occurred:\n",
      "\n",
      "ImportError: numpy.core.umath failed to import\n",
      "Traceback (most recent call last):\n",
      "  File \"C:\\Users\\hongr\\anaconda3\\envs\\test\\lib\\site-packages\\tensorboard\\compat\\__init__.py\", line 42, in tf\n",
      "    from tensorboard.compat import notf  # noqa: F401\n",
      "ImportError: cannot import name 'notf' from 'tensorboard.compat' (C:\\Users\\hongr\\anaconda3\\envs\\test\\lib\\site-packages\\tensorboard\\compat\\__init__.py)\n",
      "\n",
      "During handling of the above exception, another exception occurred:\n",
      "\n",
      "Traceback (most recent call last):\n",
      "  File \"C:\\Users\\hongr\\Eco_Project\\pytorch-cyclegan\\main.py\", line 43, in <module>\n",
      "    train(args)\n",
      "  File \"C:\\Users\\hongr\\Eco_Project\\pytorch-cyclegan\\train.py\", line 128, in train\n",
      "    writer_train = SummaryWriter(log_dir=os.path.join(log_dir, 'train'))\n",
      "  File \"C:\\Users\\hongr\\anaconda3\\envs\\test\\lib\\site-packages\\torch\\utils\\tensorboard\\writer.py\", line 220, in __init__\n",
      "    self._get_file_writer()\n",
      "  File \"C:\\Users\\hongr\\anaconda3\\envs\\test\\lib\\site-packages\\torch\\utils\\tensorboard\\writer.py\", line 250, in _get_file_writer\n",
      "    self.file_writer = FileWriter(self.log_dir, self.max_queue,\n",
      "  File \"C:\\Users\\hongr\\anaconda3\\envs\\test\\lib\\site-packages\\torch\\utils\\tensorboard\\writer.py\", line 60, in __init__\n",
      "    self.event_writer = EventFileWriter(\n",
      "  File \"C:\\Users\\hongr\\anaconda3\\envs\\test\\lib\\site-packages\\tensorboard\\summary\\writer\\event_file_writer.py\", line 72, in __init__\n",
      "    if not tf.io.gfile.exists(logdir):\n",
      "  File \"C:\\Users\\hongr\\anaconda3\\envs\\test\\lib\\site-packages\\tensorboard\\lazy.py\", line 65, in __getattr__\n",
      "    return getattr(load_once(self), attr_name)\n",
      "  File \"C:\\Users\\hongr\\anaconda3\\envs\\test\\lib\\site-packages\\tensorboard\\lazy.py\", line 97, in wrapper\n",
      "    cache[arg] = f(arg)\n",
      "  File \"C:\\Users\\hongr\\anaconda3\\envs\\test\\lib\\site-packages\\tensorboard\\lazy.py\", line 50, in load_once\n",
      "    module = load_fn()\n",
      "  File \"C:\\Users\\hongr\\anaconda3\\envs\\test\\lib\\site-packages\\tensorboard\\compat\\__init__.py\", line 45, in tf\n",
      "    import tensorflow\n",
      "  File \"C:\\Users\\hongr\\anaconda3\\envs\\test\\lib\\site-packages\\tensorflow\\__init__.py\", line 41, in <module>\n",
      "    from tensorflow.python.tools import module_util as _module_util\n",
      "  File \"C:\\Users\\hongr\\anaconda3\\envs\\test\\lib\\site-packages\\tensorflow\\python\\__init__.py\", line 46, in <module>\n",
      "    from tensorflow.python import data\n",
      "  File \"C:\\Users\\hongr\\anaconda3\\envs\\test\\lib\\site-packages\\tensorflow\\python\\data\\__init__.py\", line 25, in <module>\n",
      "    from tensorflow.python.data import experimental\n",
      "  File \"C:\\Users\\hongr\\anaconda3\\envs\\test\\lib\\site-packages\\tensorflow\\python\\data\\experimental\\__init__.py\", line 99, in <module>\n",
      "    from tensorflow.python.data.experimental import service\n",
      "  File \"C:\\Users\\hongr\\anaconda3\\envs\\test\\lib\\site-packages\\tensorflow\\python\\data\\experimental\\service\\__init__.py\", line 140, in <module>\n",
      "    from tensorflow.python.data.experimental.ops.data_service_ops import distribute\n",
      "  File \"C:\\Users\\hongr\\anaconda3\\envs\\test\\lib\\site-packages\\tensorflow\\python\\data\\experimental\\ops\\data_service_ops.py\", line 25, in <module>\n",
      "    from tensorflow.python.data.experimental.ops import compression_ops\n",
      "  File \"C:\\Users\\hongr\\anaconda3\\envs\\test\\lib\\site-packages\\tensorflow\\python\\data\\experimental\\ops\\compression_ops.py\", line 20, in <module>\n",
      "    from tensorflow.python.data.util import structure\n",
      "  File \"C:\\Users\\hongr\\anaconda3\\envs\\test\\lib\\site-packages\\tensorflow\\python\\data\\util\\structure.py\", line 26, in <module>\n",
      "    from tensorflow.python.data.util import nest\n",
      "  File \"C:\\Users\\hongr\\anaconda3\\envs\\test\\lib\\site-packages\\tensorflow\\python\\data\\util\\nest.py\", line 40, in <module>\n",
      "    from tensorflow.python.framework import sparse_tensor as _sparse_tensor\n",
      "  File \"C:\\Users\\hongr\\anaconda3\\envs\\test\\lib\\site-packages\\tensorflow\\python\\framework\\sparse_tensor.py\", line 28, in <module>\n",
      "    from tensorflow.python.framework import constant_op\n",
      "  File \"C:\\Users\\hongr\\anaconda3\\envs\\test\\lib\\site-packages\\tensorflow\\python\\framework\\constant_op.py\", line 29, in <module>\n",
      "    from tensorflow.python.eager import execute\n",
      "  File \"C:\\Users\\hongr\\anaconda3\\envs\\test\\lib\\site-packages\\tensorflow\\python\\eager\\execute.py\", line 27, in <module>\n",
      "    from tensorflow.python.framework import dtypes\n",
      "  File \"C:\\Users\\hongr\\anaconda3\\envs\\test\\lib\\site-packages\\tensorflow\\python\\framework\\dtypes.py\", line 32, in <module>\n",
      "    _np_bfloat16 = _pywrap_bfloat16.TF_bfloat16_type()\n",
      "TypeError: Unable to convert function return value to a Python type! The signature was\n",
      "\t() -> handle\n"
     ]
    }
   ],
   "source": [
    "# !python3 \n",
    "!python main.py \\\n",
    "    --mode \"train\" \\\n",
    "    --batch_size 4 \\\n",
    "    --data_dir \"C:\\\\Users\\\\hongr\\\\Eco_Project\\\\pytorch-cyclegan\\dataset\" \\\n",
    "    --ckpt_dir \"C:\\\\Users\\\\hongr\\\\Eco_Project\\\\pytorch-cyclegan\\checkpoint\" \\\n",
    "    --log_dir \"C:\\\\Users\\\\hongr\\\\Eco_Project\\\\pytorch-cyclegan\\log\" \\\n",
    "    --result_dir \"C:\\\\Users\\\\hongr\\\\Eco_Project\\\\pytorch-cyclegan\\result\"\n"
   ]
  },
  {
   "cell_type": "code",
   "execution_count": 48,
   "id": "48c6a527",
   "metadata": {},
   "outputs": [
    {
     "data": {
      "text/plain": [
       "'C:\\\\Users\\\\hongr\\\\Eco_Project\\\\pytorch-cyclegan'"
      ]
     },
     "execution_count": 48,
     "metadata": {},
     "output_type": "execute_result"
    }
   ],
   "source": [
    "%pwd"
   ]
  },
  {
   "cell_type": "code",
   "execution_count": null,
   "id": "cd6ff2df",
   "metadata": {},
   "outputs": [],
   "source": []
  }
 ],
 "metadata": {
  "kernelspec": {
   "display_name": "Python 3 (ipykernel)",
   "language": "python",
   "name": "python3"
  },
  "language_info": {
   "codemirror_mode": {
    "name": "ipython",
    "version": 3
   },
   "file_extension": ".py",
   "mimetype": "text/x-python",
   "name": "python",
   "nbconvert_exporter": "python",
   "pygments_lexer": "ipython3",
   "version": "3.9.7"
  }
 },
 "nbformat": 4,
 "nbformat_minor": 5
}
