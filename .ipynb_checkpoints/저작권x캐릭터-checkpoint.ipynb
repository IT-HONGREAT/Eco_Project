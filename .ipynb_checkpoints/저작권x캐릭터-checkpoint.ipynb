{
 "cells": [
  {
   "cell_type": "code",
   "execution_count": 1,
   "metadata": {
    "colab": {
     "base_uri": "https://localhost:8080/"
    },
    "id": "Vp_2aGxUJgf6",
    "outputId": "5a408365-bcec-4dc1-c500-e50041a98c6e"
   },
   "outputs": [
    {
     "name": "stdout",
     "output_type": "stream",
     "text": [
      "Requirement already satisfied: beautifulsoup4 in c:\\users\\hongr\\anaconda3\\envs\\test\\lib\\site-packages (4.10.0)\n",
      "Requirement already satisfied: soupsieve>1.2 in c:\\users\\hongr\\anaconda3\\envs\\test\\lib\\site-packages (from beautifulsoup4) (2.2.1)\n",
      "Requirement already satisfied: Selenium in c:\\users\\hongr\\anaconda3\\envs\\test\\lib\\site-packages (3.141.0)\n",
      "Requirement already satisfied: urllib3 in c:\\users\\hongr\\anaconda3\\envs\\test\\lib\\site-packages (from Selenium) (1.26.7)\n",
      "Requirement already satisfied: webdriver-manager in c:\\users\\hongr\\anaconda3\\envs\\test\\lib\\site-packages (3.4.2)\n",
      "Requirement already satisfied: crayons in c:\\users\\hongr\\anaconda3\\envs\\test\\lib\\site-packages (from webdriver-manager) (0.4.0)\n",
      "Requirement already satisfied: configparser in c:\\users\\hongr\\anaconda3\\envs\\test\\lib\\site-packages (from webdriver-manager) (5.0.2)\n",
      "Requirement already satisfied: requests in c:\\users\\hongr\\anaconda3\\envs\\test\\lib\\site-packages (from webdriver-manager) (2.26.0)\n",
      "Requirement already satisfied: colorama in c:\\users\\hongr\\anaconda3\\envs\\test\\lib\\site-packages (from crayons->webdriver-manager) (0.4.4)\n",
      "Requirement already satisfied: certifi>=2017.4.17 in c:\\users\\hongr\\anaconda3\\envs\\test\\lib\\site-packages (from requests->webdriver-manager) (2021.5.30)\n",
      "Requirement already satisfied: urllib3<1.27,>=1.21.1 in c:\\users\\hongr\\anaconda3\\envs\\test\\lib\\site-packages (from requests->webdriver-manager) (1.26.7)\n",
      "Requirement already satisfied: charset-normalizer~=2.0.0 in c:\\users\\hongr\\anaconda3\\envs\\test\\lib\\site-packages (from requests->webdriver-manager) (2.0.4)\n",
      "Requirement already satisfied: idna<4,>=2.5 in c:\\users\\hongr\\anaconda3\\envs\\test\\lib\\site-packages (from requests->webdriver-manager) (3.2)\n",
      "Requirement already satisfied: html_table_parser in c:\\users\\hongr\\anaconda3\\envs\\test\\lib\\site-packages (0.1.0)\n",
      "Collecting beautifulsoup4==4.4.1\n",
      "  Using cached beautifulsoup4-4.4.1-py3-none-any.whl (81 kB)\n",
      "Installing collected packages: beautifulsoup4\n",
      "  Attempting uninstall: beautifulsoup4\n",
      "    Found existing installation: beautifulsoup4 4.10.0\n",
      "    Uninstalling beautifulsoup4-4.10.0:\n",
      "      Successfully uninstalled beautifulsoup4-4.10.0\n",
      "Successfully installed beautifulsoup4-4.4.1\n",
      "Requirement already satisfied: chromedriver-autoinstaller in c:\\users\\hongr\\anaconda3\\envs\\test\\lib\\site-packages (0.2.2)\n",
      "Requirement already satisfied: beautifulsoup4 in c:\\users\\hongr\\anaconda3\\envs\\test\\lib\\site-packages (4.4.1)\n",
      "Collecting beautifulsoup4\n",
      "  Using cached beautifulsoup4-4.10.0-py3-none-any.whl (97 kB)\n",
      "Requirement already satisfied: soupsieve>1.2 in c:\\users\\hongr\\anaconda3\\envs\\test\\lib\\site-packages (from beautifulsoup4) (2.2.1)\n",
      "Installing collected packages: beautifulsoup4\n",
      "  Attempting uninstall: beautifulsoup4\n",
      "    Found existing installation: beautifulsoup4 4.4.1\n",
      "    Uninstalling beautifulsoup4-4.4.1:\n",
      "      Successfully uninstalled beautifulsoup4-4.4.1\n",
      "Successfully installed beautifulsoup4-4.10.0\n"
     ]
    },
    {
     "name": "stderr",
     "output_type": "stream",
     "text": [
      "ERROR: pip's dependency resolver does not currently take into account all the packages that are installed. This behaviour is the source of the following dependency conflicts.\n",
      "html-table-parser 0.1.0 requires beautifulsoup4==4.4.1, but you have beautifulsoup4 4.10.0 which is incompatible.\n"
     ]
    },
    {
     "name": "stdout",
     "output_type": "stream",
     "text": [
      "Requirement already satisfied: html5lib in c:\\users\\hongr\\anaconda3\\envs\\test\\lib\\site-packages (1.1)\n",
      "Requirement already satisfied: six>=1.9 in c:\\users\\hongr\\anaconda3\\envs\\test\\lib\\site-packages (from html5lib) (1.15.0)\n",
      "Requirement already satisfied: webencodings in c:\\users\\hongr\\anaconda3\\envs\\test\\lib\\site-packages (from html5lib) (0.5.1)\n"
     ]
    }
   ],
   "source": [
    "!pip3 install beautifulsoup4\n",
    "!pip install Selenium\n",
    "!pip install webdriver-manager\n",
    "!pip install html_table_parser\n",
    "!pip install chromedriver-autoinstaller\n",
    "!pip install --upgrade beautifulsoup4\n",
    "!pip install --upgrade html5lib"
   ]
  },
  {
   "cell_type": "code",
   "execution_count": 2,
   "metadata": {
    "id": "IbtK_w0jTYCI"
   },
   "outputs": [],
   "source": [
    "from selenium import webdriver \n",
    "from bs4 import BeautifulSoup as bs\n",
    "import time\n",
    "import pandas as pd\n",
    "from webdriver_manager.chrome import ChromeDriverManager\n",
    "import requests\n",
    "from html_table_parser import parser_functions as parser\n",
    "from urllib.request import urlopen\n",
    "from time import *\n",
    "\n",
    "\n",
    "import chromedriver_autoinstaller"
   ]
  },
  {
   "cell_type": "code",
   "execution_count": 3,
   "metadata": {
    "colab": {
     "base_uri": "https://localhost:8080/",
     "height": 547
    },
    "id": "EyGIaLSFUGXa",
    "outputId": "68f28315-c244-4827-c144-57654be07890"
   },
   "outputs": [
    {
     "name": "stderr",
     "output_type": "stream",
     "text": [
      "[WDM] - \n",
      "\n",
      "[WDM] - ====== WebDriver manager ======\n"
     ]
    },
    {
     "ename": "ValueError",
     "evalue": "ignored",
     "output_type": "error",
     "traceback": [
      "\u001b[0;31m---------------------------------------------------------------------------\u001b[0m",
      "\u001b[0;31mValueError\u001b[0m                                Traceback (most recent call last)",
      "\u001b[0;32m<ipython-input-3-b3fa4d7fd334>\u001b[0m in \u001b[0;36m<module>\u001b[0;34m()\u001b[0m\n\u001b[0;32m----> 1\u001b[0;31m \u001b[0mdriver\u001b[0m \u001b[0;34m=\u001b[0m \u001b[0mwebdriver\u001b[0m\u001b[0;34m.\u001b[0m\u001b[0mChrome\u001b[0m\u001b[0;34m(\u001b[0m\u001b[0mChromeDriverManager\u001b[0m\u001b[0;34m(\u001b[0m\u001b[0;34m)\u001b[0m\u001b[0;34m.\u001b[0m\u001b[0minstall\u001b[0m\u001b[0;34m(\u001b[0m\u001b[0;34m)\u001b[0m\u001b[0;34m)\u001b[0m\u001b[0;34m\u001b[0m\u001b[0;34m\u001b[0m\u001b[0m\n\u001b[0m\u001b[1;32m      2\u001b[0m \u001b[0msleep\u001b[0m\u001b[0;34m(\u001b[0m\u001b[0;36m5\u001b[0m\u001b[0;34m)\u001b[0m\u001b[0;34m\u001b[0m\u001b[0;34m\u001b[0m\u001b[0m\n\u001b[1;32m      3\u001b[0m \u001b[0murl\u001b[0m \u001b[0;34m=\u001b[0m \u001b[0;34m'https://www.shutterstock.com/ko/search/%EC%BA%90%EB%A6%AD%ED%84%B0?pl=PPC_GOO_KR_IG-264131595792&cr=ec&kw=%EC%A0%80%EC%9E%91%EA%B6%8C%20%EC%97%86%EB%8A%94%20%EC%BA%90%EB%A6%AD%ED%84%B0&c3apidt=p19213837397&gclid=Cj0KCQjwwY-LBhD6ARIsACvT72Pqq67jZau_n_WGvLNYIddV-puPu2HtIGu6-Owqs5oJL9BB218T0N4aAjdgEALw_wcB&gclsrc=aw.ds&image_type=illustration&orientation=vertical&page=2'\u001b[0m\u001b[0;34m\u001b[0m\u001b[0;34m\u001b[0m\u001b[0m\n\u001b[1;32m      4\u001b[0m \u001b[0mdriver\u001b[0m\u001b[0;34m.\u001b[0m\u001b[0mget\u001b[0m\u001b[0;34m(\u001b[0m\u001b[0murl\u001b[0m\u001b[0;34m)\u001b[0m\u001b[0;34m\u001b[0m\u001b[0;34m\u001b[0m\u001b[0m\n",
      "\u001b[0;32m/usr/local/lib/python3.7/dist-packages/webdriver_manager/chrome.py\u001b[0m in \u001b[0;36m__init__\u001b[0;34m(self, version, os_type, path, name, url, latest_release_url, chrome_type, log_level, print_first_line, cache_valid_range)\u001b[0m\n\u001b[1;32m     28\u001b[0m                                    \u001b[0murl\u001b[0m\u001b[0;34m=\u001b[0m\u001b[0murl\u001b[0m\u001b[0;34m,\u001b[0m\u001b[0;34m\u001b[0m\u001b[0;34m\u001b[0m\u001b[0m\n\u001b[1;32m     29\u001b[0m                                    \u001b[0mlatest_release_url\u001b[0m\u001b[0;34m=\u001b[0m\u001b[0mlatest_release_url\u001b[0m\u001b[0;34m,\u001b[0m\u001b[0;34m\u001b[0m\u001b[0;34m\u001b[0m\u001b[0m\n\u001b[0;32m---> 30\u001b[0;31m                                    chrome_type=chrome_type)\n\u001b[0m\u001b[1;32m     31\u001b[0m \u001b[0;34m\u001b[0m\u001b[0m\n\u001b[1;32m     32\u001b[0m     \u001b[0;32mdef\u001b[0m \u001b[0minstall\u001b[0m\u001b[0;34m(\u001b[0m\u001b[0mself\u001b[0m\u001b[0;34m)\u001b[0m\u001b[0;34m:\u001b[0m\u001b[0;34m\u001b[0m\u001b[0;34m\u001b[0m\u001b[0m\n",
      "\u001b[0;32m/usr/local/lib/python3.7/dist-packages/webdriver_manager/driver.py\u001b[0m in \u001b[0;36m__init__\u001b[0;34m(self, name, version, os_type, url, latest_release_url, chrome_type)\u001b[0m\n\u001b[1;32m     53\u001b[0m                                            latest_release_url)\n\u001b[1;32m     54\u001b[0m         \u001b[0mself\u001b[0m\u001b[0;34m.\u001b[0m\u001b[0mchrome_type\u001b[0m \u001b[0;34m=\u001b[0m \u001b[0mchrome_type\u001b[0m\u001b[0;34m\u001b[0m\u001b[0;34m\u001b[0m\u001b[0m\n\u001b[0;32m---> 55\u001b[0;31m         \u001b[0mself\u001b[0m\u001b[0;34m.\u001b[0m\u001b[0mbrowser_version\u001b[0m \u001b[0;34m=\u001b[0m \u001b[0mchrome_version\u001b[0m\u001b[0;34m(\u001b[0m\u001b[0mchrome_type\u001b[0m\u001b[0;34m)\u001b[0m\u001b[0;34m\u001b[0m\u001b[0;34m\u001b[0m\u001b[0m\n\u001b[0m\u001b[1;32m     56\u001b[0m \u001b[0;34m\u001b[0m\u001b[0m\n\u001b[1;32m     57\u001b[0m     \u001b[0;32mdef\u001b[0m \u001b[0mget_os_type\u001b[0m\u001b[0;34m(\u001b[0m\u001b[0mself\u001b[0m\u001b[0;34m)\u001b[0m\u001b[0;34m:\u001b[0m\u001b[0;34m\u001b[0m\u001b[0;34m\u001b[0m\u001b[0m\n",
      "\u001b[0;32m/usr/local/lib/python3.7/dist-packages/webdriver_manager/utils.py\u001b[0m in \u001b[0;36mchrome_version\u001b[0;34m(browser_type)\u001b[0m\n\u001b[1;32m    156\u001b[0m     \u001b[0;32mif\u001b[0m \u001b[0;32mnot\u001b[0m \u001b[0mversion\u001b[0m\u001b[0;34m:\u001b[0m\u001b[0;34m\u001b[0m\u001b[0;34m\u001b[0m\u001b[0m\n\u001b[1;32m    157\u001b[0m         raise ValueError(\n\u001b[0;32m--> 158\u001b[0;31m             \u001b[0;34mf'Could not get version for {browser_type} with the command: {cmd}'\u001b[0m\u001b[0;34m\u001b[0m\u001b[0;34m\u001b[0m\u001b[0m\n\u001b[0m\u001b[1;32m    159\u001b[0m         )\n\u001b[1;32m    160\u001b[0m     \u001b[0mcurrent_version\u001b[0m \u001b[0;34m=\u001b[0m \u001b[0mversion\u001b[0m\u001b[0;34m.\u001b[0m\u001b[0mgroup\u001b[0m\u001b[0;34m(\u001b[0m\u001b[0;36m0\u001b[0m\u001b[0;34m)\u001b[0m\u001b[0;34m\u001b[0m\u001b[0;34m\u001b[0m\u001b[0m\n",
      "\u001b[0;31mValueError\u001b[0m: Could not get version for google-chrome with the command: google-chrome --version || google-chrome-stable --version"
     ]
    }
   ],
   "source": [
    "driver = webdriver.Chrome(ChromeDriverManager().install())\n",
    "sleep(5)\n",
    "url = 'https://www.shutterstock.com/ko/search/%EC%BA%90%EB%A6%AD%ED%84%B0?pl=PPC_GOO_KR_IG-264131595792&cr=ec&kw=%EC%A0%80%EC%9E%91%EA%B6%8C%20%EC%97%86%EB%8A%94%20%EC%BA%90%EB%A6%AD%ED%84%B0&c3apidt=p19213837397&gclid=Cj0KCQjwwY-LBhD6ARIsACvT72Pqq67jZau_n_WGvLNYIddV-puPu2HtIGu6-Owqs5oJL9BB218T0N4aAjdgEALw_wcB&gclsrc=aw.ds&image_type=illustration&orientation=vertical&page=2'\n",
    "driver.get(url)"
   ]
  },
  {
   "cell_type": "code",
   "execution_count": null,
   "metadata": {
    "id": "mQOV4aFBULKb"
   },
   "outputs": [],
   "source": []
  }
 ],
 "metadata": {
  "colab": {
   "collapsed_sections": [],
   "name": "저작권x캐릭터",
   "provenance": []
  },
  "kernelspec": {
   "display_name": "Python 3 (ipykernel)",
   "language": "python",
   "name": "python3"
  },
  "language_info": {
   "codemirror_mode": {
    "name": "ipython",
    "version": 3
   },
   "file_extension": ".py",
   "mimetype": "text/x-python",
   "name": "python",
   "nbconvert_exporter": "python",
   "pygments_lexer": "ipython3",
   "version": "3.9.7"
  }
 },
 "nbformat": 4,
 "nbformat_minor": 1
}
